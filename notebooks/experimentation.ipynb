{
 "cells": [
  {
   "cell_type": "code",
   "execution_count": 1,
   "metadata": {},
   "outputs": [],
   "source": [
    "import flash as fz\n",
    "import joblib\n",
    "import klib\n",
    "import matplotlib.pyplot as plt\n",
    "import numpy as np\n",
    "import pandas as pd\n",
    "import plotly.graph_objs as go\n",
    "import seaborn as sns\n",
    "import yaml\n",
    "from imblearn.over_sampling import SMOTE\n",
    "from sklearn.compose import ColumnTransformer, make_column_transformer\n",
    "from sklearn.ensemble import (\n",
    "    ExtraTreesClassifier,\n",
    "    GradientBoostingClassifier,\n",
    "    RandomForestClassifier,\n",
    "    VotingClassifier,\n",
    ")\n",
    "from sklearn.impute import KNNImputer, SimpleImputer\n",
    "from sklearn.linear_model import LogisticRegression\n",
    "from sklearn.metrics import accuracy_score, f1_score, precision_score, recall_score\n",
    "from sklearn.model_selection import GridSearchCV, cross_val_score\n",
    "from sklearn.neighbors import KNeighborsClassifier\n",
    "from sklearn.pipeline import Pipeline\n",
    "from sklearn.preprocessing import (\n",
    "    LabelEncoder,\n",
    "    MinMaxScaler,\n",
    "    OneHotEncoder,\n",
    "    RobustScaler,\n",
    "    StandardScaler,\n",
    ")\n",
    "from sklearn.svm import SVC\n",
    "from sklearn.tree import DecisionTreeClassifier\n",
    "from pathlib import Path\n",
    "# from xgboost import XGBClassifier"
   ]
  },
  {
   "cell_type": "markdown",
   "metadata": {},
   "source": [
    "# Data Assessment and Cleaning"
   ]
  },
  {
   "cell_type": "code",
   "execution_count": 2,
   "metadata": {},
   "outputs": [],
   "source": [
    "config_path = Path(\"src/loan_sanction_prediction/config.yaml\")\n",
    "with config_path.open(\"r\") as file:\n",
    "    config = yaml.safe_load(file)"
   ]
  },
  {
   "cell_type": "code",
   "execution_count": null,
   "metadata": {},
   "outputs": [],
   "source": [
    "# Load the dataset\n",
    "train_data_path = config[\"data\"][\"raw\"][\"train\"]\n",
    "df = pd.read_csv(train_data_path)\n",
    "df_bak = df.copy()"
   ]
  },
  {
   "cell_type": "code",
   "execution_count": 4,
   "metadata": {},
   "outputs": [
    {
     "data": {
      "text/html": [
       "<div>\n",
       "<style scoped>\n",
       "    .dataframe tbody tr th:only-of-type {\n",
       "        vertical-align: middle;\n",
       "    }\n",
       "\n",
       "    .dataframe tbody tr th {\n",
       "        vertical-align: top;\n",
       "    }\n",
       "\n",
       "    .dataframe thead th {\n",
       "        text-align: right;\n",
       "    }\n",
       "</style>\n",
       "<table border=\"1\" class=\"dataframe\">\n",
       "  <thead>\n",
       "    <tr style=\"text-align: right;\">\n",
       "      <th></th>\n",
       "      <th>Loan_ID</th>\n",
       "      <th>Gender</th>\n",
       "      <th>Married</th>\n",
       "      <th>Dependents</th>\n",
       "      <th>Education</th>\n",
       "      <th>Self_Employed</th>\n",
       "      <th>ApplicantIncome</th>\n",
       "      <th>CoapplicantIncome</th>\n",
       "      <th>LoanAmount</th>\n",
       "      <th>Loan_Amount_Term</th>\n",
       "      <th>Credit_History</th>\n",
       "      <th>Property_Area</th>\n",
       "      <th>Loan_Status</th>\n",
       "    </tr>\n",
       "  </thead>\n",
       "  <tbody>\n",
       "    <tr>\n",
       "      <th>0</th>\n",
       "      <td>LP002244</td>\n",
       "      <td>Male</td>\n",
       "      <td>Yes</td>\n",
       "      <td>0</td>\n",
       "      <td>Graduate</td>\n",
       "      <td>No</td>\n",
       "      <td>2333</td>\n",
       "      <td>2417.0</td>\n",
       "      <td>136.0</td>\n",
       "      <td>360.0</td>\n",
       "      <td>1.0</td>\n",
       "      <td>Urban</td>\n",
       "      <td>Y</td>\n",
       "    </tr>\n",
       "    <tr>\n",
       "      <th>1</th>\n",
       "      <td>LP001186</td>\n",
       "      <td>Female</td>\n",
       "      <td>Yes</td>\n",
       "      <td>1</td>\n",
       "      <td>Graduate</td>\n",
       "      <td>Yes</td>\n",
       "      <td>11500</td>\n",
       "      <td>0.0</td>\n",
       "      <td>286.0</td>\n",
       "      <td>360.0</td>\n",
       "      <td>0.0</td>\n",
       "      <td>Urban</td>\n",
       "      <td>N</td>\n",
       "    </tr>\n",
       "    <tr>\n",
       "      <th>2</th>\n",
       "      <td>LP002603</td>\n",
       "      <td>Female</td>\n",
       "      <td>No</td>\n",
       "      <td>0</td>\n",
       "      <td>Graduate</td>\n",
       "      <td>No</td>\n",
       "      <td>645</td>\n",
       "      <td>3683.0</td>\n",
       "      <td>113.0</td>\n",
       "      <td>480.0</td>\n",
       "      <td>1.0</td>\n",
       "      <td>Rural</td>\n",
       "      <td>Y</td>\n",
       "    </tr>\n",
       "    <tr>\n",
       "      <th>3</th>\n",
       "      <td>LP002175</td>\n",
       "      <td>Male</td>\n",
       "      <td>Yes</td>\n",
       "      <td>0</td>\n",
       "      <td>Graduate</td>\n",
       "      <td>No</td>\n",
       "      <td>4750</td>\n",
       "      <td>2333.0</td>\n",
       "      <td>130.0</td>\n",
       "      <td>360.0</td>\n",
       "      <td>1.0</td>\n",
       "      <td>Urban</td>\n",
       "      <td>Y</td>\n",
       "    </tr>\n",
       "    <tr>\n",
       "      <th>4</th>\n",
       "      <td>LP002265</td>\n",
       "      <td>Male</td>\n",
       "      <td>Yes</td>\n",
       "      <td>2</td>\n",
       "      <td>Not Graduate</td>\n",
       "      <td>No</td>\n",
       "      <td>1993</td>\n",
       "      <td>1625.0</td>\n",
       "      <td>113.0</td>\n",
       "      <td>180.0</td>\n",
       "      <td>1.0</td>\n",
       "      <td>Semiurban</td>\n",
       "      <td>Y</td>\n",
       "    </tr>\n",
       "  </tbody>\n",
       "</table>\n",
       "</div>"
      ],
      "text/plain": [
       "    Loan_ID  Gender Married Dependents     Education Self_Employed  \\\n",
       "0  LP002244    Male     Yes          0      Graduate            No   \n",
       "1  LP001186  Female     Yes          1      Graduate           Yes   \n",
       "2  LP002603  Female      No          0      Graduate            No   \n",
       "3  LP002175    Male     Yes          0      Graduate            No   \n",
       "4  LP002265    Male     Yes          2  Not Graduate            No   \n",
       "\n",
       "   ApplicantIncome  CoapplicantIncome  LoanAmount  Loan_Amount_Term  \\\n",
       "0             2333             2417.0       136.0             360.0   \n",
       "1            11500                0.0       286.0             360.0   \n",
       "2              645             3683.0       113.0             480.0   \n",
       "3             4750             2333.0       130.0             360.0   \n",
       "4             1993             1625.0       113.0             180.0   \n",
       "\n",
       "   Credit_History Property_Area Loan_Status  \n",
       "0             1.0         Urban           Y  \n",
       "1             0.0         Urban           N  \n",
       "2             1.0         Rural           Y  \n",
       "3             1.0         Urban           Y  \n",
       "4             1.0     Semiurban           Y  "
      ]
     },
     "execution_count": 4,
     "metadata": {},
     "output_type": "execute_result"
    }
   ],
   "source": [
    "# Understand structure of the dataset\n",
    "df.head()"
   ]
  },
  {
   "cell_type": "code",
   "execution_count": 5,
   "metadata": {},
   "outputs": [
    {
     "data": {
      "text/plain": [
       "Index(['Gender', 'Married', 'Dependents', 'Education', 'Self_Employed',\n",
       "       'ApplicantIncome', 'CoapplicantIncome', 'LoanAmount',\n",
       "       'Loan_Amount_Term', 'Credit_History', 'Property_Area', 'Loan_Status'],\n",
       "      dtype='object')"
      ]
     },
     "execution_count": 5,
     "metadata": {},
     "output_type": "execute_result"
    }
   ],
   "source": [
    "# Drop useless cols\n",
    "useless_cols = [\"Loan_ID\"]\n",
    "df.drop(columns=useless_cols, inplace=True)\n",
    "\n",
    "# Test\n",
    "df.columns"
   ]
  },
  {
   "cell_type": "code",
   "execution_count": 6,
   "metadata": {},
   "outputs": [
    {
     "name": "stdout",
     "output_type": "stream",
     "text": [
      "  Gender: gender\n",
      "  Married: married\n",
      "  Dependents: dependents\n",
      "  Education: education\n",
      "  Self_Employed: self_employed\n",
      "  ApplicantIncome: applicant_income\n",
      "  CoapplicantIncome: coapplicant_income\n",
      "  LoanAmount: loan_amount\n",
      "  Loan_Amount_Term: loan_amount_term\n",
      "  Credit_History: credit_history\n",
      "  Property_Area: property_area\n",
      "  Loan_Status: loan_status\n"
     ]
    }
   ],
   "source": [
    "# This is a code to generate renamed_column_names dictionary for config.yaml\n",
    "unrenamed_col_names = df.columns.tolist()\n",
    "renamed_col_names = klib.clean_column_names(df).columns.tolist()\n",
    "for i in range(len(unrenamed_col_names)):\n",
    "    print(\"  \" + unrenamed_col_names[i] + \":\", renamed_col_names[i])"
   ]
  },
  {
   "cell_type": "code",
   "execution_count": 10,
   "metadata": {},
   "outputs": [
    {
     "data": {
      "text/plain": [
       "['gender',\n",
       " 'married',\n",
       " 'dependents',\n",
       " 'education',\n",
       " 'self_employed',\n",
       " 'applicant_income',\n",
       " 'coapplicant_income',\n",
       " 'loan_amount',\n",
       " 'loan_amount_term',\n",
       " 'credit_history',\n",
       " 'property_area',\n",
       " 'loan_status']"
      ]
     },
     "execution_count": 10,
     "metadata": {},
     "output_type": "execute_result"
    }
   ],
   "source": [
    "# Clean column names\n",
    "df.columns = list(config[\"renamed_column_names\"].values())\n",
    "column_names = df.columns.tolist()\n",
    "\n",
    "# Test\n",
    "column_names"
   ]
  },
  {
   "cell_type": "code",
   "execution_count": 11,
   "metadata": {},
   "outputs": [
    {
     "data": {
      "text/plain": [
       "'There are no duplicate data points in the dataset.'"
      ]
     },
     "execution_count": 11,
     "metadata": {},
     "output_type": "execute_result"
    }
   ],
   "source": [
    "# Check for duplicate data points\n",
    "def check_duplicates(df):\n",
    "    if df.duplicated().any():\n",
    "        return df[df.duplicated(keep=False)]\n",
    "    return \"There are no duplicate data points in the dataset.\"\n",
    "\n",
    "\n",
    "check_duplicates(df)"
   ]
  },
  {
   "cell_type": "code",
   "execution_count": 20,
   "metadata": {},
   "outputs": [
    {
     "name": "stdout",
     "output_type": "stream",
     "text": [
      "<class 'pandas.core.frame.DataFrame'>\n",
      "RangeIndex: 614 entries, 0 to 613\n",
      "Data columns (total 12 columns):\n",
      " #   Column              Non-Null Count  Dtype  \n",
      "---  ------              --------------  -----  \n",
      " 0   gender              601 non-null    object \n",
      " 1   married             611 non-null    object \n",
      " 2   dependents          599 non-null    object \n",
      " 3   education           614 non-null    object \n",
      " 4   self_employed       582 non-null    object \n",
      " 5   applicant_income    614 non-null    int64  \n",
      " 6   coapplicant_income  614 non-null    float64\n",
      " 7   loan_amount         592 non-null    float64\n",
      " 8   loan_amount_term    600 non-null    float64\n",
      " 9   credit_history      564 non-null    float64\n",
      " 10  property_area       614 non-null    object \n",
      " 11  loan_status         614 non-null    object \n",
      "dtypes: float64(4), int64(1), object(7)\n",
      "memory usage: 57.7+ KB\n"
     ]
    }
   ],
   "source": [
    "# Get some information about the dataset\n",
    "df.info()"
   ]
  },
  {
   "cell_type": "code",
   "execution_count": 17,
   "metadata": {},
   "outputs": [],
   "source": [
    "# Extract continuous and discrete features from the dataset\n",
    "continuous_cols, discrete_cols, _ = fz.extract_features(\n",
    "    df, \"all\", ignore_cols=[\"loan_status\"]\n",
    ")"
   ]
  },
  {
   "cell_type": "code",
   "execution_count": 18,
   "metadata": {},
   "outputs": [
    {
     "data": {
      "text/html": [
       "<div>\n",
       "<style scoped>\n",
       "    .dataframe tbody tr th:only-of-type {\n",
       "        vertical-align: middle;\n",
       "    }\n",
       "\n",
       "    .dataframe tbody tr th {\n",
       "        vertical-align: top;\n",
       "    }\n",
       "\n",
       "    .dataframe thead th {\n",
       "        text-align: right;\n",
       "    }\n",
       "</style>\n",
       "<table border=\"1\" class=\"dataframe\">\n",
       "  <thead>\n",
       "    <tr style=\"text-align: right;\">\n",
       "      <th></th>\n",
       "      <th>applicant_income</th>\n",
       "      <th>coapplicant_income</th>\n",
       "      <th>loan_amount</th>\n",
       "    </tr>\n",
       "  </thead>\n",
       "  <tbody>\n",
       "    <tr>\n",
       "      <th>0</th>\n",
       "      <td>2333</td>\n",
       "      <td>2417.0</td>\n",
       "      <td>136.0</td>\n",
       "    </tr>\n",
       "    <tr>\n",
       "      <th>1</th>\n",
       "      <td>11500</td>\n",
       "      <td>0.0</td>\n",
       "      <td>286.0</td>\n",
       "    </tr>\n",
       "    <tr>\n",
       "      <th>2</th>\n",
       "      <td>645</td>\n",
       "      <td>3683.0</td>\n",
       "      <td>113.0</td>\n",
       "    </tr>\n",
       "    <tr>\n",
       "      <th>3</th>\n",
       "      <td>4750</td>\n",
       "      <td>2333.0</td>\n",
       "      <td>130.0</td>\n",
       "    </tr>\n",
       "    <tr>\n",
       "      <th>4</th>\n",
       "      <td>1993</td>\n",
       "      <td>1625.0</td>\n",
       "      <td>113.0</td>\n",
       "    </tr>\n",
       "    <tr>\n",
       "      <th>...</th>\n",
       "      <td>...</td>\n",
       "      <td>...</td>\n",
       "      <td>...</td>\n",
       "    </tr>\n",
       "    <tr>\n",
       "      <th>486</th>\n",
       "      <td>5000</td>\n",
       "      <td>3667.0</td>\n",
       "      <td>236.0</td>\n",
       "    </tr>\n",
       "    <tr>\n",
       "      <th>487</th>\n",
       "      <td>9083</td>\n",
       "      <td>0.0</td>\n",
       "      <td>228.0</td>\n",
       "    </tr>\n",
       "    <tr>\n",
       "      <th>488</th>\n",
       "      <td>2894</td>\n",
       "      <td>2792.0</td>\n",
       "      <td>155.0</td>\n",
       "    </tr>\n",
       "    <tr>\n",
       "      <th>489</th>\n",
       "      <td>2130</td>\n",
       "      <td>6666.0</td>\n",
       "      <td>70.0</td>\n",
       "    </tr>\n",
       "    <tr>\n",
       "      <th>490</th>\n",
       "      <td>8750</td>\n",
       "      <td>4996.0</td>\n",
       "      <td>130.0</td>\n",
       "    </tr>\n",
       "  </tbody>\n",
       "</table>\n",
       "<p>491 rows × 3 columns</p>\n",
       "</div>"
      ],
      "text/plain": [
       "     applicant_income  coapplicant_income  loan_amount\n",
       "0                2333              2417.0        136.0\n",
       "1               11500                 0.0        286.0\n",
       "2                 645              3683.0        113.0\n",
       "3                4750              2333.0        130.0\n",
       "4                1993              1625.0        113.0\n",
       "..                ...                 ...          ...\n",
       "486              5000              3667.0        236.0\n",
       "487              9083                 0.0        228.0\n",
       "488              2894              2792.0        155.0\n",
       "489              2130              6666.0         70.0\n",
       "490              8750              4996.0        130.0\n",
       "\n",
       "[491 rows x 3 columns]"
      ]
     },
     "execution_count": 18,
     "metadata": {},
     "output_type": "execute_result"
    }
   ],
   "source": [
    "# Print continuous features of dataset\n",
    "df[continuous_cols]"
   ]
  },
  {
   "cell_type": "code",
   "execution_count": 19,
   "metadata": {},
   "outputs": [
    {
     "data": {
      "text/html": [
       "<div>\n",
       "<style scoped>\n",
       "    .dataframe tbody tr th:only-of-type {\n",
       "        vertical-align: middle;\n",
       "    }\n",
       "\n",
       "    .dataframe tbody tr th {\n",
       "        vertical-align: top;\n",
       "    }\n",
       "\n",
       "    .dataframe thead th {\n",
       "        text-align: right;\n",
       "    }\n",
       "</style>\n",
       "<table border=\"1\" class=\"dataframe\">\n",
       "  <thead>\n",
       "    <tr style=\"text-align: right;\">\n",
       "      <th></th>\n",
       "      <th>gender</th>\n",
       "      <th>married</th>\n",
       "      <th>dependents</th>\n",
       "      <th>education</th>\n",
       "      <th>self_employed</th>\n",
       "      <th>property_area</th>\n",
       "      <th>loan_amount_term</th>\n",
       "      <th>credit_history</th>\n",
       "    </tr>\n",
       "  </thead>\n",
       "  <tbody>\n",
       "    <tr>\n",
       "      <th>0</th>\n",
       "      <td>Male</td>\n",
       "      <td>Yes</td>\n",
       "      <td>0</td>\n",
       "      <td>Graduate</td>\n",
       "      <td>No</td>\n",
       "      <td>Urban</td>\n",
       "      <td>360.0</td>\n",
       "      <td>1.0</td>\n",
       "    </tr>\n",
       "    <tr>\n",
       "      <th>1</th>\n",
       "      <td>Female</td>\n",
       "      <td>Yes</td>\n",
       "      <td>1</td>\n",
       "      <td>Graduate</td>\n",
       "      <td>Yes</td>\n",
       "      <td>Urban</td>\n",
       "      <td>360.0</td>\n",
       "      <td>0.0</td>\n",
       "    </tr>\n",
       "    <tr>\n",
       "      <th>2</th>\n",
       "      <td>Female</td>\n",
       "      <td>No</td>\n",
       "      <td>0</td>\n",
       "      <td>Graduate</td>\n",
       "      <td>No</td>\n",
       "      <td>Rural</td>\n",
       "      <td>480.0</td>\n",
       "      <td>1.0</td>\n",
       "    </tr>\n",
       "    <tr>\n",
       "      <th>3</th>\n",
       "      <td>Male</td>\n",
       "      <td>Yes</td>\n",
       "      <td>0</td>\n",
       "      <td>Graduate</td>\n",
       "      <td>No</td>\n",
       "      <td>Urban</td>\n",
       "      <td>360.0</td>\n",
       "      <td>1.0</td>\n",
       "    </tr>\n",
       "    <tr>\n",
       "      <th>4</th>\n",
       "      <td>Male</td>\n",
       "      <td>Yes</td>\n",
       "      <td>2</td>\n",
       "      <td>Not Graduate</td>\n",
       "      <td>No</td>\n",
       "      <td>Semiurban</td>\n",
       "      <td>180.0</td>\n",
       "      <td>1.0</td>\n",
       "    </tr>\n",
       "    <tr>\n",
       "      <th>...</th>\n",
       "      <td>...</td>\n",
       "      <td>...</td>\n",
       "      <td>...</td>\n",
       "      <td>...</td>\n",
       "      <td>...</td>\n",
       "      <td>...</td>\n",
       "      <td>...</td>\n",
       "      <td>...</td>\n",
       "    </tr>\n",
       "    <tr>\n",
       "      <th>486</th>\n",
       "      <td>Male</td>\n",
       "      <td>Yes</td>\n",
       "      <td>2</td>\n",
       "      <td>Graduate</td>\n",
       "      <td>No</td>\n",
       "      <td>Semiurban</td>\n",
       "      <td>360.0</td>\n",
       "      <td>1.0</td>\n",
       "    </tr>\n",
       "    <tr>\n",
       "      <th>487</th>\n",
       "      <td>Male</td>\n",
       "      <td>Yes</td>\n",
       "      <td>0</td>\n",
       "      <td>Graduate</td>\n",
       "      <td>No</td>\n",
       "      <td>Semiurban</td>\n",
       "      <td>360.0</td>\n",
       "      <td>1.0</td>\n",
       "    </tr>\n",
       "    <tr>\n",
       "      <th>488</th>\n",
       "      <td>Male</td>\n",
       "      <td>Yes</td>\n",
       "      <td>0</td>\n",
       "      <td>Not Graduate</td>\n",
       "      <td>NaN</td>\n",
       "      <td>Rural</td>\n",
       "      <td>360.0</td>\n",
       "      <td>1.0</td>\n",
       "    </tr>\n",
       "    <tr>\n",
       "      <th>489</th>\n",
       "      <td>Male</td>\n",
       "      <td>Yes</td>\n",
       "      <td>0</td>\n",
       "      <td>Graduate</td>\n",
       "      <td>No</td>\n",
       "      <td>Semiurban</td>\n",
       "      <td>180.0</td>\n",
       "      <td>1.0</td>\n",
       "    </tr>\n",
       "    <tr>\n",
       "      <th>490</th>\n",
       "      <td>Male</td>\n",
       "      <td>Yes</td>\n",
       "      <td>3+</td>\n",
       "      <td>Graduate</td>\n",
       "      <td>No</td>\n",
       "      <td>Rural</td>\n",
       "      <td>360.0</td>\n",
       "      <td>1.0</td>\n",
       "    </tr>\n",
       "  </tbody>\n",
       "</table>\n",
       "<p>491 rows × 8 columns</p>\n",
       "</div>"
      ],
      "text/plain": [
       "     gender married dependents     education self_employed property_area  \\\n",
       "0      Male     Yes          0      Graduate            No         Urban   \n",
       "1    Female     Yes          1      Graduate           Yes         Urban   \n",
       "2    Female      No          0      Graduate            No         Rural   \n",
       "3      Male     Yes          0      Graduate            No         Urban   \n",
       "4      Male     Yes          2  Not Graduate            No     Semiurban   \n",
       "..      ...     ...        ...           ...           ...           ...   \n",
       "486    Male     Yes          2      Graduate            No     Semiurban   \n",
       "487    Male     Yes          0      Graduate            No     Semiurban   \n",
       "488    Male     Yes          0  Not Graduate           NaN         Rural   \n",
       "489    Male     Yes          0      Graduate            No     Semiurban   \n",
       "490    Male     Yes         3+      Graduate            No         Rural   \n",
       "\n",
       "     loan_amount_term  credit_history  \n",
       "0               360.0             1.0  \n",
       "1               360.0             0.0  \n",
       "2               480.0             1.0  \n",
       "3               360.0             1.0  \n",
       "4               180.0             1.0  \n",
       "..                ...             ...  \n",
       "486             360.0             1.0  \n",
       "487             360.0             1.0  \n",
       "488             360.0             1.0  \n",
       "489             180.0             1.0  \n",
       "490             360.0             1.0  \n",
       "\n",
       "[491 rows x 8 columns]"
      ]
     },
     "execution_count": 19,
     "metadata": {},
     "output_type": "execute_result"
    }
   ],
   "source": [
    "# Print discrete features of dataset\n",
    "df[discrete_cols]"
   ]
  },
  {
   "cell_type": "code",
   "execution_count": 20,
   "metadata": {},
   "outputs": [],
   "source": [
    "cat_cols = [col for col in discrete_cols if col not in [\"loan_amount_term\", \"credit_history\"]]"
   ]
  },
  {
   "cell_type": "code",
   "execution_count": 21,
   "metadata": {},
   "outputs": [],
   "source": [
    "target = \"loan_status\""
   ]
  },
  {
   "cell_type": "code",
   "execution_count": 22,
   "metadata": {},
   "outputs": [],
   "source": [
    "for col in cat_cols + [target]:\n",
    "    df[col] = df[col].str.lower().str.replace(\" \", \"_\")"
   ]
  },
  {
   "cell_type": "code",
   "execution_count": 35,
   "metadata": {},
   "outputs": [
    {
     "name": "stdout",
     "output_type": "stream",
     "text": [
      "gender\n",
      "male      398\n",
      "female     88\n",
      "Name: count, dtype: int64\n",
      "----------------------\n",
      "married\n",
      "yes    322\n",
      "no     166\n",
      "Name: count, dtype: int64\n",
      "----------------------\n",
      "dependents\n",
      "0     274\n",
      "1      91\n",
      "2      77\n",
      "3+     37\n",
      "Name: count, dtype: int64\n",
      "----------------------\n",
      "education\n",
      "graduate        386\n",
      "not_graduate    105\n",
      "Name: count, dtype: int64\n",
      "----------------------\n",
      "self_employed\n",
      "no     401\n",
      "yes     64\n",
      "Name: count, dtype: int64\n",
      "----------------------\n",
      "property_area\n",
      "semiurban    179\n",
      "urban        163\n",
      "rural        149\n",
      "Name: count, dtype: int64\n",
      "----------------------\n",
      "loan_status\n",
      "y    337\n",
      "n    154\n",
      "Name: count, dtype: int64\n",
      "----------------------\n"
     ]
    }
   ],
   "source": [
    "for col in df[cat_cols + [target]].columns.tolist():\n",
    "    print(df[col].value_counts())\n",
    "    print(\"----------------------\")"
   ]
  },
  {
   "cell_type": "code",
   "execution_count": 38,
   "metadata": {},
   "outputs": [],
   "source": [
    "df[\"loan_status\"] = df[\"loan_status\"].replace({\"y\": \"yes\", \"n\": \"no\"})"
   ]
  },
  {
   "cell_type": "code",
   "execution_count": 41,
   "metadata": {},
   "outputs": [
    {
     "data": {
      "text/plain": [
       "gender                category\n",
       "married               category\n",
       "dependents            category\n",
       "education             category\n",
       "self_employed         category\n",
       "applicant_income       float64\n",
       "coapplicant_income     float64\n",
       "loan_amount            float64\n",
       "loan_amount_term      category\n",
       "credit_history        category\n",
       "property_area         category\n",
       "loan_status             object\n",
       "dtype: object"
      ]
     },
     "execution_count": 41,
     "metadata": {},
     "output_type": "execute_result"
    }
   ],
   "source": [
    "# Convert datatype of features\n",
    "df['applicant_income'] = df['applicant_income'].astype(float)\n",
    "df[\"loan_amount_term\"] = df[\"loan_amount_term\"].astype(\"Int64\")\n",
    "df[\"credit_history\"] = df[\"credit_history\"].astype(\"Int64\")\n",
    "# Convert categorical features' data type to category\n",
    "# This will be helpful while doing analysis\n",
    "df[discrete_cols] = df[discrete_cols].astype(\"category\")\n",
    "\n",
    "# Test\n",
    "df.dtypes"
   ]
  },
  {
   "cell_type": "code",
   "execution_count": 42,
   "metadata": {},
   "outputs": [
    {
     "name": "stdout",
     "output_type": "stream",
     "text": [
      "loan_amount    3.46\n",
      "dtype: float64\n",
      "['loan_amount']\n"
     ]
    }
   ],
   "source": [
    "# Numerical features\n",
    "num_nan_pct = fz.calc_nan_values(df[continuous_cols])\n",
    "continuous_cols_with_nan = num_nan_pct.index.tolist()\n",
    "\n",
    "print(num_nan_pct)  # Percentage of missing values in numerical features\n",
    "print(continuous_cols_with_nan)  # Numerical features with missing values"
   ]
  },
  {
   "cell_type": "code",
   "execution_count": 43,
   "metadata": {},
   "outputs": [
    {
     "name": "stdout",
     "output_type": "stream",
     "text": [
      "gender              1.02\n",
      "married             0.61\n",
      "dependents          2.44\n",
      "self_employed       5.30\n",
      "loan_amount_term    2.24\n",
      "credit_history      7.94\n",
      "dtype: float64\n",
      "['gender', 'married', 'dependents', 'self_employed', 'loan_amount_term', 'credit_history']\n"
     ]
    }
   ],
   "source": [
    "# Categorical features\n",
    "cat_nan_pct = fz.calc_nan_values(df[discrete_cols])\n",
    "discrete_cols_with_nan = cat_nan_pct.index.tolist()\n",
    "\n",
    "print(cat_nan_pct)  # Percentage of missing values in categorical features\n",
    "print(discrete_cols_with_nan)  # Categorical features with missing values"
   ]
  },
  {
   "cell_type": "code",
   "execution_count": null,
   "metadata": {},
   "outputs": [],
   "source": [
    "# Check whether the target column contains any missing values\n",
    "df[\"loan_status\"].isna().sum()"
   ]
  },
  {
   "cell_type": "code",
   "execution_count": null,
   "metadata": {},
   "outputs": [],
   "source": [
    "# Visualize the distribution of missing values to determine the type of missing values\n",
    "fig, axs = fz.nan_value_viz(df[continuous_cols_with_nan + discrete_cols_with_nan])\n",
    "fig"
   ]
  },
  {
   "cell_type": "markdown",
   "metadata": {},
   "source": [
    "# EDA"
   ]
  },
  {
   "cell_type": "markdown",
   "metadata": {},
   "source": [
    "## Univariate analysis"
   ]
  },
  {
   "cell_type": "markdown",
   "metadata": {},
   "source": [
    "### Features"
   ]
  },
  {
   "cell_type": "markdown",
   "metadata": {},
   "source": [
    "#### Numerical"
   ]
  },
  {
   "cell_type": "code",
   "execution_count": null,
   "metadata": {},
   "outputs": [],
   "source": [
    "# Statistical measures\n",
    "df[continuous_cols].describe().T"
   ]
  },
  {
   "cell_type": "code",
   "execution_count": null,
   "metadata": {},
   "outputs": [],
   "source": [
    "# Statistical moments\n",
    "fz.stats_moments(df[continuous_cols])"
   ]
  },
  {
   "cell_type": "code",
   "execution_count": null,
   "metadata": {},
   "outputs": [],
   "source": [
    "# Plotting histogram & boxplot\n",
    "fig, axs = fz.hist_box_viz(df[continuous_cols])\n",
    "fig"
   ]
  },
  {
   "cell_type": "markdown",
   "metadata": {},
   "source": [
    "#### Categorical"
   ]
  },
  {
   "cell_type": "code",
   "execution_count": null,
   "metadata": {},
   "outputs": [],
   "source": [
    "# Statistical measures\n",
    "df[discrete_cols].describe().T"
   ]
  },
  {
   "cell_type": "code",
   "execution_count": 44,
   "metadata": {},
   "outputs": [
    {
     "data": {
      "image/png": "[encoded data removed]",
      "text/plain": [
       "<Figure size 1300x900 with 9 Axes>"
      ]
     },
     "execution_count": 44,
     "metadata": {},
     "output_type": "execute_result"
    }
   ],
   "source": [
    "# Countplots\n",
    "fig, axs = fz.count_viz(df[discrete_cols])\n",
    "fig"
   ]
  },
  {
   "cell_type": "code",
   "execution_count": 46,
   "metadata": {},
   "outputs": [
    {
     "data": {
      "text/plain": [
       "loan_amount_term\n",
       "360    0.837067\n",
       "180    0.071283\n",
       "480    0.026477\n",
       "300    0.014257\n",
       "84     0.008147\n",
       "240    0.008147\n",
       "120    0.006110\n",
       "12     0.002037\n",
       "36     0.002037\n",
       "60     0.002037\n",
       "Name: count, dtype: float64"
      ]
     },
     "execution_count": 46,
     "metadata": {},
     "output_type": "execute_result"
    }
   ],
   "source": [
    "df[\"loan_amount_term\"].value_counts()/len(df[\"loan_amount_term\"])"
   ]
  },
  {
   "cell_type": "markdown",
   "metadata": {},
   "source": [
    "### Target"
   ]
  },
  {
   "cell_type": "code",
   "execution_count": null,
   "metadata": {},
   "outputs": [],
   "source": [
    "df[\"loan_status\"].describe().T"
   ]
  },
  {
   "cell_type": "code",
   "execution_count": null,
   "metadata": {},
   "outputs": [],
   "source": [
    "plt.pie(\n",
    "    df[\"loan_status\"].value_counts(),\n",
    "    labels=df[\"loan_status\"].unique(),\n",
    "    autopct=\"%0.2f%%\",\n",
    "    shadow=True,\n",
    "    explode=(0, 0.1),\n",
    "    counterclock=False,\n",
    "    colors=[\"lime\", \"cyan\"],\n",
    ")\n",
    "plt.show()"
   ]
  },
  {
   "cell_type": "markdown",
   "metadata": {},
   "source": [
    "## Bivariate analysis"
   ]
  },
  {
   "cell_type": "markdown",
   "metadata": {},
   "source": [
    "### Feature vs. Feature"
   ]
  },
  {
   "cell_type": "markdown",
   "metadata": {},
   "source": [
    "#### Numerical - Numerical"
   ]
  },
  {
   "cell_type": "code",
   "execution_count": null,
   "metadata": {},
   "outputs": [],
   "source": [
    "# Pairplot\n",
    "grid = fz.pair_viz(df[continuous_cols])\n",
    "plt.show()"
   ]
  },
  {
   "cell_type": "code",
   "execution_count": null,
   "metadata": {},
   "outputs": [],
   "source": [
    "# Correlation heatmap\n",
    "methods = [\"pearson\", \"spearman\", \"kendall\"]\n",
    "for method in methods:\n",
    "    fz.corr_heatmap_viz(df[continuous_cols], method=method)\n",
    "    plt.show()\n",
    "    print(\"-\" * 150)"
   ]
  },
  {
   "cell_type": "markdown",
   "metadata": {},
   "source": [
    "#### Categorical - Categorical"
   ]
  },
  {
   "cell_type": "code",
   "execution_count": null,
   "metadata": {},
   "outputs": [],
   "source": [
    "# Crosstab Heatmap\n",
    "fz.crosstab_heatmap_viz(df, discrete_cols, normalize=\"both\")"
   ]
  },
  {
   "cell_type": "markdown",
   "metadata": {},
   "source": [
    "#### Numerical - Categorical"
   ]
  },
  {
   "cell_type": "markdown",
   "metadata": {},
   "source": [
    "##### Box-plot"
   ]
  },
  {
   "cell_type": "code",
   "execution_count": null,
   "metadata": {},
   "outputs": [],
   "source": [
    "# applicant_income\n",
    "fig, axs = fz.num_cat_viz(df, \"applicant_income\", discrete_cols)\n",
    "fig"
   ]
  },
  {
   "cell_type": "code",
   "execution_count": null,
   "metadata": {},
   "outputs": [],
   "source": [
    "# coapplicant_income\n",
    "fig, axs = fz.num_cat_viz(df, \"coapplicant_income\", discrete_cols)\n",
    "fig"
   ]
  },
  {
   "cell_type": "code",
   "execution_count": null,
   "metadata": {},
   "outputs": [],
   "source": [
    "# loan_amount\n",
    "fig, axs = fz.num_cat_viz(df, \"loan_amount\", discrete_cols)\n",
    "fig"
   ]
  },
  {
   "cell_type": "markdown",
   "metadata": {},
   "source": [
    "##### KDE-plot"
   ]
  },
  {
   "cell_type": "code",
   "execution_count": null,
   "metadata": {},
   "outputs": [],
   "source": [
    "# applicant_income\n",
    "fig, axs = fz.num_cat_viz(df, \"applicant_income\", discrete_cols, kind=\"kde\")\n",
    "fig"
   ]
  },
  {
   "cell_type": "code",
   "execution_count": null,
   "metadata": {},
   "outputs": [],
   "source": [
    "# coapplicant_income\n",
    "fig, axs = fz.num_cat_viz(df, \"coapplicant_income\", discrete_cols, kind=\"kde\")\n",
    "fig"
   ]
  },
  {
   "cell_type": "code",
   "execution_count": null,
   "metadata": {},
   "outputs": [],
   "source": [
    "# loan_amount\n",
    "fig, axs = fz.num_cat_viz(df, \"loan_amount\", discrete_cols, kind=\"kde\")\n",
    "fig"
   ]
  },
  {
   "cell_type": "markdown",
   "metadata": {},
   "source": [
    "##### Point-plot"
   ]
  },
  {
   "cell_type": "code",
   "execution_count": null,
   "metadata": {},
   "outputs": [],
   "source": [
    "# applicant_income\n",
    "fig, axs = fz.num_cat_viz(df, \"applicant_income\", discrete_cols, kind=\"point\")\n",
    "fig"
   ]
  },
  {
   "cell_type": "code",
   "execution_count": null,
   "metadata": {},
   "outputs": [],
   "source": [
    "# coapplicant_income\n",
    "fig, axs = fz.num_cat_viz(df, \"coapplicant_income\", discrete_cols, kind=\"point\")\n",
    "fig"
   ]
  },
  {
   "cell_type": "code",
   "execution_count": null,
   "metadata": {},
   "outputs": [],
   "source": [
    "# loan_amount\n",
    "fig, axs = fz.num_cat_viz(df, \"loan_amount\", discrete_cols, kind=\"point\")\n",
    "fig"
   ]
  },
  {
   "cell_type": "markdown",
   "metadata": {},
   "source": [
    "### Feature vs. Target"
   ]
  },
  {
   "cell_type": "markdown",
   "metadata": {},
   "source": [
    "#### Categorical - Categorical"
   ]
  },
  {
   "cell_type": "code",
   "execution_count": null,
   "metadata": {},
   "outputs": [],
   "source": [
    "# Crosstab Heatmap\n",
    "fz.crosstab_heatmap_viz(df, discrete_cols, [\"loan_status\"], \"both\")"
   ]
  },
  {
   "cell_type": "markdown",
   "metadata": {},
   "source": [
    "#### Numerical - Categorical"
   ]
  },
  {
   "cell_type": "code",
   "execution_count": null,
   "metadata": {},
   "outputs": [],
   "source": [
    "# Box-plot\n",
    "fig, axs = fz.num_cat_viz(df, continuous_cols, \"loan_status\")\n",
    "fig"
   ]
  },
  {
   "cell_type": "code",
   "execution_count": null,
   "metadata": {},
   "outputs": [],
   "source": [
    "# KDE-plot\n",
    "fig, axs = fz.num_cat_viz(df, continuous_cols, \"loan_status\", kind=\"kde\")\n",
    "fig"
   ]
  },
  {
   "cell_type": "code",
   "execution_count": null,
   "metadata": {},
   "outputs": [],
   "source": [
    "# Point-plot\n",
    "fig, axs = fz.num_cat_viz(df, continuous_cols, \"loan_status\", kind=\"point\")\n",
    "fig"
   ]
  },
  {
   "cell_type": "markdown",
   "metadata": {},
   "source": [
    "## Mulitvariate analysis"
   ]
  },
  {
   "cell_type": "markdown",
   "metadata": {},
   "source": [
    "### Feature vs. Feature"
   ]
  },
  {
   "cell_type": "markdown",
   "metadata": {},
   "source": [
    "#### Numerical - Numerical - Numerical"
   ]
  },
  {
   "cell_type": "code",
   "execution_count": 28,
   "metadata": {},
   "outputs": [
    {
     "ename": "ValueError",
     "evalue": "Mime type rendering requires nbformat>=4.2.0 but it is not installed",
     "output_type": "error",
     "traceback": [
      "\u001b[31m---------------------------------------------------------------------------\u001b[39m",
      "\u001b[31mValueError\u001b[39m                                Traceback (most recent call last)",
      "\u001b[36mCell\u001b[39m\u001b[36m \u001b[39m\u001b[32mIn[28]\u001b[39m\u001b[32m, line 18\u001b[39m\n\u001b[32m      9\u001b[39m layout = go.Layout(\n\u001b[32m     10\u001b[39m     scene=\u001b[38;5;28mdict\u001b[39m(\n\u001b[32m     11\u001b[39m         xaxis_title=\u001b[33m\"\u001b[39m\u001b[33mApplicant Income\u001b[39m\u001b[33m\"\u001b[39m,\n\u001b[32m   (...)\u001b[39m\u001b[32m     14\u001b[39m     )\n\u001b[32m     15\u001b[39m )\n\u001b[32m     17\u001b[39m fig = go.Figure(data=[trace], layout=layout)\n\u001b[32m---> \u001b[39m\u001b[32m18\u001b[39m \u001b[43mfig\u001b[49m\u001b[43m.\u001b[49m\u001b[43mshow\u001b[49m\u001b[43m(\u001b[49m\u001b[43m)\u001b[49m\n",
      "\u001b[36mFile \u001b[39m\u001b[32m~/projects/machine-learning/loan-sanction-prediction/.venv/lib/python3.12/site-packages/plotly/basedatatypes.py:3414\u001b[39m, in \u001b[36mBaseFigure.show\u001b[39m\u001b[34m(self, *args, **kwargs)\u001b[39m\n\u001b[32m   3381\u001b[39m \u001b[38;5;250m\u001b[39m\u001b[33;03m\"\"\"\u001b[39;00m\n\u001b[32m   3382\u001b[39m \u001b[33;03mShow a figure using either the default renderer(s) or the renderer(s)\u001b[39;00m\n\u001b[32m   3383\u001b[39m \u001b[33;03mspecified by the renderer argument\u001b[39;00m\n\u001b[32m   (...)\u001b[39m\u001b[32m   3410\u001b[39m \u001b[33;03mNone\u001b[39;00m\n\u001b[32m   3411\u001b[39m \u001b[33;03m\"\"\"\u001b[39;00m\n\u001b[32m   3412\u001b[39m \u001b[38;5;28;01mimport\u001b[39;00m\u001b[38;5;250m \u001b[39m\u001b[34;01mplotly\u001b[39;00m\u001b[34;01m.\u001b[39;00m\u001b[34;01mio\u001b[39;00m\u001b[38;5;250m \u001b[39m\u001b[38;5;28;01mas\u001b[39;00m\u001b[38;5;250m \u001b[39m\u001b[34;01mpio\u001b[39;00m\n\u001b[32m-> \u001b[39m\u001b[32m3414\u001b[39m \u001b[38;5;28;01mreturn\u001b[39;00m \u001b[43mpio\u001b[49m\u001b[43m.\u001b[49m\u001b[43mshow\u001b[49m\u001b[43m(\u001b[49m\u001b[38;5;28;43mself\u001b[39;49m\u001b[43m,\u001b[49m\u001b[43m \u001b[49m\u001b[43m*\u001b[49m\u001b[43margs\u001b[49m\u001b[43m,\u001b[49m\u001b[43m \u001b[49m\u001b[43m*\u001b[49m\u001b[43m*\u001b[49m\u001b[43mkwargs\u001b[49m\u001b[43m)\u001b[49m\n",
      "\u001b[36mFile \u001b[39m\u001b[32m~/projects/machine-learning/loan-sanction-prediction/.venv/lib/python3.12/site-packages/plotly/io/_renderers.py:425\u001b[39m, in \u001b[36mshow\u001b[39m\u001b[34m(fig, renderer, validate, **kwargs)\u001b[39m\n\u001b[32m    420\u001b[39m     \u001b[38;5;28;01mraise\u001b[39;00m \u001b[38;5;167;01mValueError\u001b[39;00m(\n\u001b[32m    421\u001b[39m         \u001b[33m\"\u001b[39m\u001b[33mMime type rendering requires ipython but it is not installed\u001b[39m\u001b[33m\"\u001b[39m\n\u001b[32m    422\u001b[39m     )\n\u001b[32m    424\u001b[39m \u001b[38;5;28;01mif\u001b[39;00m \u001b[38;5;129;01mnot\u001b[39;00m nbformat \u001b[38;5;129;01mor\u001b[39;00m Version(nbformat.__version__) < Version(\u001b[33m\"\u001b[39m\u001b[33m4.2.0\u001b[39m\u001b[33m\"\u001b[39m):\n\u001b[32m--> \u001b[39m\u001b[32m425\u001b[39m     \u001b[38;5;28;01mraise\u001b[39;00m \u001b[38;5;167;01mValueError\u001b[39;00m(\n\u001b[32m    426\u001b[39m         \u001b[33m\"\u001b[39m\u001b[33mMime type rendering requires nbformat>=4.2.0 but it is not installed\u001b[39m\u001b[33m\"\u001b[39m\n\u001b[32m    427\u001b[39m     )\n\u001b[32m    429\u001b[39m display_jupyter_version_warnings()\n\u001b[32m    431\u001b[39m ipython_display.display(bundle, raw=\u001b[38;5;28;01mTrue\u001b[39;00m)\n",
      "\u001b[31mValueError\u001b[39m: Mime type rendering requires nbformat>=4.2.0 but it is not installed"
     ]
    }
   ],
   "source": [
    "trace = go.Scatter3d(\n",
    "    x=df[\"applicant_income\"],\n",
    "    y=df[\"coapplicant_income\"],\n",
    "    z=df[\"loan_amount\"],\n",
    "    mode=\"markers\",\n",
    "    marker=dict(size=5),\n",
    ")\n",
    "\n",
    "layout = go.Layout(\n",
    "    scene=dict(\n",
    "        xaxis_title=\"Applicant Income\",\n",
    "        yaxis_title=\"Coapplicant Income\",\n",
    "        zaxis_title=\"Loan Amount\",\n",
    "    )\n",
    ")\n",
    "\n",
    "fig = go.Figure(data=[trace], layout=layout)\n",
    "fig.show()"
   ]
  },
  {
   "cell_type": "markdown",
   "metadata": {},
   "source": [
    "#### Numerical - Numerical - Categorical"
   ]
  },
  {
   "cell_type": "code",
   "execution_count": null,
   "metadata": {},
   "outputs": [],
   "source": [
    "# Pairplot\n",
    "for feature in discrete_cols:\n",
    "    sns.pairplot(df, vars=continuous_cols, hue=feature)\n",
    "    plt.show()\n",
    "    print(\"-\" * 105)"
   ]
  },
  {
   "cell_type": "code",
   "execution_count": null,
   "metadata": {},
   "outputs": [],
   "source": [
    "def num_num_cat_viz(x, y, categorical_features):\n",
    "    for feature in categorical_features:\n",
    "        sns.relplot(df, x=x, y=y, col=feature)\n",
    "        plt.show()\n",
    "        print(\"-\" * 118)"
   ]
  },
  {
   "cell_type": "code",
   "execution_count": null,
   "metadata": {},
   "outputs": [],
   "source": [
    "# applicant_income & coapplicant_income\n",
    "num_num_cat_viz(\"applicant_income\", \"coapplicant_income\", discrete_cols)"
   ]
  },
  {
   "cell_type": "code",
   "execution_count": null,
   "metadata": {},
   "outputs": [],
   "source": [
    "# applicant_income & loan_amount\n",
    "num_num_cat_viz(\"applicant_income\", \"loan_amount\", discrete_cols)"
   ]
  },
  {
   "cell_type": "code",
   "execution_count": null,
   "metadata": {},
   "outputs": [],
   "source": [
    "# coapplicant_income & loan_amount\n",
    "num_num_cat_viz(\"coapplicant_income\", \"loan_amount\", discrete_cols)"
   ]
  },
  {
   "cell_type": "markdown",
   "metadata": {},
   "source": [
    "#### Numerical - Categorical - Categorical"
   ]
  },
  {
   "cell_type": "code",
   "execution_count": null,
   "metadata": {},
   "outputs": [],
   "source": []
  },
  {
   "cell_type": "markdown",
   "metadata": {},
   "source": [
    "### Feature vs. Target"
   ]
  },
  {
   "cell_type": "markdown",
   "metadata": {},
   "source": [
    "#### Numerical - Numerical - Categorical"
   ]
  },
  {
   "cell_type": "code",
   "execution_count": null,
   "metadata": {},
   "outputs": [],
   "source": [
    "sns.pairplot(df, vars=continuous_cols, hue=\"loan_status\")"
   ]
  },
  {
   "cell_type": "code",
   "execution_count": null,
   "metadata": {},
   "outputs": [],
   "source": [
    "def relplot(df, numerical_features, categorical_feature):\n",
    "    for i, feature_i in enumerate(numerical_features):\n",
    "        for j, feature_j in enumerate(numerical_features[i + 1 :], start=i + 1):\n",
    "            sns.relplot(df, x=feature_i, y=feature_j, col=categorical_feature)\n",
    "            plt.show()\n",
    "            print(\"-\" * df[categorical_feature].nunique() * 59)"
   ]
  },
  {
   "cell_type": "code",
   "execution_count": null,
   "metadata": {},
   "outputs": [],
   "source": [
    "relplot(df, continuous_cols, \"loan_status\")"
   ]
  },
  {
   "cell_type": "markdown",
   "metadata": {},
   "source": [
    "#### Numerical - Categorical - Categorical"
   ]
  },
  {
   "cell_type": "code",
   "execution_count": null,
   "metadata": {},
   "outputs": [],
   "source": []
  },
  {
   "cell_type": "markdown",
   "metadata": {},
   "source": [
    "# Feature construction"
   ]
  },
  {
   "cell_type": "markdown",
   "metadata": {},
   "source": [
    "- It looks like people with a co-applicant income of 0 doesn't have a co-applicant. So, we should create a new feature called 'has_coapplicant'. For this feature, set the value to 'no' for individuals with a co-applicant income of 0, and 'yes' for those with a non-zero co-applicant income."
   ]
  },
  {
   "cell_type": "code",
   "execution_count": null,
   "metadata": {},
   "outputs": [],
   "source": [
    "df[\"has_coapplicant\"] = np.where(df[\"coapplicant_income\"] == 0, \"no\", \"yes\")\n",
    "\n",
    "# Test\n",
    "df[\"has_coapplicant\"]"
   ]
  },
  {
   "cell_type": "code",
   "execution_count": null,
   "metadata": {},
   "outputs": [],
   "source": [
    "# Appending newly created features based on their feature type\n",
    "discrete_cols.append(\"has_coapplicant\")\n",
    "\n",
    "# Test\n",
    "discrete_cols"
   ]
  },
  {
   "cell_type": "markdown",
   "metadata": {},
   "source": [
    "# Feature transformation"
   ]
  },
  {
   "cell_type": "code",
   "execution_count": null,
   "metadata": {},
   "outputs": [],
   "source": [
    "transformed_data = fz.feature_transform(df[continuous_cols])"
   ]
  },
  {
   "cell_type": "markdown",
   "metadata": {},
   "source": [
    "## applicant_income"
   ]
  },
  {
   "cell_type": "code",
   "execution_count": null,
   "metadata": {},
   "outputs": [],
   "source": [
    "# Histogram\n",
    "fig, axs = fz.feature_transform_viz(df[\"applicant_income\"], transformed_data)\n",
    "fig"
   ]
  },
  {
   "cell_type": "code",
   "execution_count": null,
   "metadata": {},
   "outputs": [],
   "source": [
    "# QQ Plot\n",
    "fig, axs = fz.feature_transform_viz(df[\"applicant_income\"], transformed_data, kind=\"qq\")\n",
    "fig"
   ]
  },
  {
   "cell_type": "markdown",
   "metadata": {},
   "source": [
    "## coapplicant_income"
   ]
  },
  {
   "cell_type": "code",
   "execution_count": null,
   "metadata": {},
   "outputs": [],
   "source": [
    "# Histogram\n",
    "fig, axs = fz.feature_transform_viz(df[\"coapplicant_income\"], transformed_data)\n",
    "fig"
   ]
  },
  {
   "cell_type": "code",
   "execution_count": null,
   "metadata": {},
   "outputs": [],
   "source": [
    "# QQ Plot\n",
    "fig, axs = fz.feature_transform_viz(\n",
    "    df[\"coapplicant_income\"], transformed_data, kind=\"qq\"\n",
    ")\n",
    "fig"
   ]
  },
  {
   "cell_type": "markdown",
   "metadata": {},
   "source": [
    "## loan_amount"
   ]
  },
  {
   "cell_type": "code",
   "execution_count": null,
   "metadata": {},
   "outputs": [],
   "source": [
    "# Histogram\n",
    "fig, axs = fz.feature_transform_viz(df[\"loan_amount\"], transformed_data)\n",
    "fig"
   ]
  },
  {
   "cell_type": "code",
   "execution_count": null,
   "metadata": {},
   "outputs": [],
   "source": [
    "# QQ Plot\n",
    "fig, axs = fz.feature_transform_viz(df[\"loan_amount\"], transformed_data, kind=\"qq\")\n",
    "fig"
   ]
  },
  {
   "cell_type": "markdown",
   "metadata": {},
   "source": [
    "## Conclusions\n",
    "\n",
    "- **applicant_income & loan_amount:** Quantile Transform normalizes the data effectively.  \n",
    "- **coapplicant_income:** Reciprocal Transform transforms coapplicant_income to follow a bimodal distribution."
   ]
  },
  {
   "cell_type": "code",
   "execution_count": null,
   "metadata": {},
   "outputs": [],
   "source": [
    "df[\"applicant_income\"] = transformed_data[\"Quantile\"][\"applicant_income\"]\n",
    "df[\"coapplicant_income\"] = transformed_data[\"Reciprocal\"][\"coapplicant_income\"]\n",
    "df[\"loan_amount\"] = transformed_data[\"Quantile\"][\"loan_amount\"]"
   ]
  },
  {
   "cell_type": "code",
   "execution_count": null,
   "metadata": {},
   "outputs": [],
   "source": [
    "# Test\n",
    "fig, axs = fz.hist_box_viz(df[continuous_cols])\n",
    "fig"
   ]
  },
  {
   "cell_type": "markdown",
   "metadata": {},
   "source": [
    "## Handle Missing Values"
   ]
  },
  {
   "cell_type": "markdown",
   "metadata": {},
   "source": [
    "### Numerical"
   ]
  },
  {
   "cell_type": "code",
   "execution_count": null,
   "metadata": {},
   "outputs": [],
   "source": [
    "# 1. Handle missing values in categorical columns\n",
    "cat_imputer = SimpleImputer(strategy=\"constant\", fill_value=\"missing\")\n",
    "X[discrete_cols] = cat_imputer.fit_transform(X[discrete_cols])"
   ]
  },
  {
   "cell_type": "code",
   "execution_count": null,
   "metadata": {},
   "outputs": [],
   "source": [
    "# OneHotEncoder expects datatypes of every value in a column to be the same\n",
    "X[discrete_cols] = X[discrete_cols].astype(str)"
   ]
  },
  {
   "cell_type": "code",
   "execution_count": null,
   "metadata": {},
   "outputs": [],
   "source": [
    "# Store encoded feature names before encoding\n",
    "unique_values_in_cols = {}\n",
    "for col in discrete_cols:\n",
    "    encoded_columns = []\n",
    "    for value in X[col].unique():\n",
    "        encoded_columns.append(f\"{col}_{value}\")\n",
    "    unique_values_in_cols[col] = encoded_columns"
   ]
  },
  {
   "cell_type": "code",
   "execution_count": null,
   "metadata": {},
   "outputs": [],
   "source": [
    "# 2. One-Hot Encode categorical features\n",
    "encoder = OneHotEncoder(sparse_output=False, drop=\"first\", handle_unknown=\"ignore\")\n",
    "encoded_X_data = encoder.fit_transform(X[discrete_cols])\n",
    "encoded_X_df = pd.DataFrame(encoded_X_data, columns=encoder.get_feature_names_out())\n",
    "\n",
    "# Concatenating encoded categorical features with the rest of the X\n",
    "X = pd.concat([X.drop(columns=discrete_cols), encoded_X_df], axis=1)"
   ]
  },
  {
   "cell_type": "code",
   "execution_count": null,
   "metadata": {},
   "outputs": [],
   "source": [
    "# 3. Impute missing values in numerical features using KNN imputer\n",
    "knn_imputer = KNNImputer(n_neighbors=5)\n",
    "X = pd.DataFrame(knn_imputer.fit_transform(X), columns=X.columns)"
   ]
  },
  {
   "cell_type": "code",
   "execution_count": null,
   "metadata": {},
   "outputs": [],
   "source": [
    "# 4. Assign the missing value imputed numerical features back to df\n",
    "df[continuous_cols_with_nan] = X[continuous_cols_with_nan]"
   ]
  },
  {
   "cell_type": "markdown",
   "metadata": {},
   "source": [
    "### Categorical"
   ]
  },
  {
   "cell_type": "code",
   "execution_count": null,
   "metadata": {},
   "outputs": [],
   "source": [
    "def advanced_categorical_imputer(X, y, clf_model):\n",
    "    X, y = X.copy(), y.copy()  # Avoid modifying the original X and y\n",
    "\n",
    "    y_notna = y.notna()  # Create a mask for non-missing values in y\n",
    "\n",
    "    # Split the data into training (non-missing) and test (missing) data\n",
    "    X, X_test = X[y_notna], X[~y_notna]\n",
    "    y_train, y_test = y[y_notna], y[~y_notna]\n",
    "\n",
    "    # Label encoding the target feature\n",
    "    le = LabelEncoder()\n",
    "    y_train = le.fit_transform(y_train)\n",
    "\n",
    "    clf_model.fit(X, y_train)  # Train the model\n",
    "\n",
    "    y_pred = clf_model.predict(X_test)  # Predict on the test data (missing values)\n",
    "\n",
    "    # Inverse transform the predicted values to original labels\n",
    "    y_pred_inverse = le.inverse_transform(y_pred)\n",
    "\n",
    "    y[y_test.index] = y_pred_inverse  # Impute the missing target values\n",
    "\n",
    "    return y, clf_model, le"
   ]
  },
  {
   "cell_type": "code",
   "execution_count": null,
   "metadata": {},
   "outputs": [],
   "source": [
    "clf_models = {}\n",
    "label_encoders = {}\n",
    "for col in discrete_cols_with_nan:\n",
    "    df[col], clf_models[col], label_encoders[col] = advanced_categorical_imputer(\n",
    "        X.drop(columns=unique_values_in_cols[col], errors=\"ignore\"),\n",
    "        df[col],\n",
    "        ExtraTreesClassifier(random_state=42),\n",
    "    )"
   ]
  },
  {
   "cell_type": "code",
   "execution_count": null,
   "metadata": {},
   "outputs": [],
   "source": [
    "def check_missing_values(df):\n",
    "    if df.isna().any().any():\n",
    "        print(\"There are still missing values in the DataFrame.\")\n",
    "    else:\n",
    "        print(\"There are no missing values left in the DataFrame.\")\n",
    "\n",
    "\n",
    "# Test\n",
    "check_missing_values(df)"
   ]
  },
  {
   "cell_type": "code",
   "execution_count": null,
   "metadata": {},
   "outputs": [],
   "source": [
    "# Load the configurations\n",
    "with open(\"config/config_v2.toml\", \"r\") as file:\n",
    "    config_data = toml.load(file)\n",
    "\n",
    "continuous_cols, discrete_cols = config_data[\"num\"][\"cols\"], config_data[\"cat\"][\"cols\"]"
   ]
  },
  {
   "cell_type": "markdown",
   "metadata": {},
   "source": [
    "# Model Building"
   ]
  },
  {
   "cell_type": "code",
   "execution_count": null,
   "metadata": {},
   "outputs": [],
   "source": [
    "# Split the data into features and target\n",
    "X = df.drop(\"loan_status\", axis=1)\n",
    "y = df[\"loan_status\"]"
   ]
  },
  {
   "cell_type": "code",
   "execution_count": null,
   "metadata": {},
   "outputs": [],
   "source": [
    "# Label encode target\n",
    "le = LabelEncoder()\n",
    "y = le.fit_transform(y)"
   ]
  },
  {
   "cell_type": "code",
   "execution_count": null,
   "metadata": {},
   "outputs": [],
   "source": [
    "# Tranformer for preprocessing data\n",
    "transformer = make_column_transformer(\n",
    "    (StandardScaler(), continuous_cols),\n",
    "    (OneHotEncoder(drop=\"first\", sparse_output=False), discrete_cols),\n",
    "    remainder=\"passthrough\",\n",
    ")"
   ]
  },
  {
   "cell_type": "code",
   "execution_count": null,
   "metadata": {},
   "outputs": [],
   "source": [
    "X_transformed = transformer.fit_transform(X)\n",
    "\n",
    "# Test\n",
    "X_transformed.shape"
   ]
  },
  {
   "cell_type": "markdown",
   "metadata": {},
   "source": [
    "## Handling imbalanced dataset"
   ]
  },
  {
   "cell_type": "code",
   "execution_count": null,
   "metadata": {},
   "outputs": [],
   "source": [
    "# Oversampling the dataset using SMOTE\n",
    "smote = SMOTE(random_state=42)\n",
    "X_transformed, y_resampled = smote.fit_resample(X_transformed, y)\n",
    "\n",
    "# Test\n",
    "print(X_transformed.shape, y_resampled.shape)"
   ]
  },
  {
   "cell_type": "code",
   "execution_count": null,
   "metadata": {},
   "outputs": [],
   "source": [
    "# Test\n",
    "unique_values, counts = np.unique(y_resampled, return_counts=True)\n",
    "\n",
    "# Print the counts of each class\n",
    "for value, count in zip(unique_values, counts):\n",
    "    print(f\"Class {value}: {count}\")"
   ]
  },
  {
   "cell_type": "markdown",
   "metadata": {},
   "source": [
    "## Model selection (Before hyperparameter tuning)"
   ]
  },
  {
   "cell_type": "code",
   "execution_count": null,
   "metadata": {},
   "outputs": [],
   "source": [
    "# Define models\n",
    "models = {\n",
    "    \"Logistic Regression\": LogisticRegression(),\n",
    "    \"Random Forest\": RandomForestClassifier(),\n",
    "    \"Gradient Boosting\": GradientBoostingClassifier(),\n",
    "    \"Support Vector Machine\": SVC(),\n",
    "    \"KNN\": KNeighborsClassifier(),\n",
    "    \"Decision Trees\": DecisionTreeClassifier(),\n",
    "    \"Xgboost\": XGBClassifier(),\n",
    "    \"Extra Trees\": ExtraTreesClassifier(),\n",
    "}"
   ]
  },
  {
   "cell_type": "code",
   "execution_count": null,
   "metadata": {},
   "outputs": [],
   "source": [
    "# Define metric functions\n",
    "metrics = {\n",
    "    \"accuracy\": accuracy_score,\n",
    "    \"precision\": precision_score,\n",
    "    \"recall\": recall_score,\n",
    "    \"f1\": f1_score,\n",
    "}"
   ]
  },
  {
   "cell_type": "code",
   "execution_count": null,
   "metadata": {},
   "outputs": [],
   "source": [
    "def eval_models_across_metrics(models, metrics, X, y, cv=5):\n",
    "    models_across_metrics = {metric: {} for metric in metrics}\n",
    "    for metric in metrics:\n",
    "        for model_name, model in models.items():\n",
    "            cv_scores = cross_val_score(model, X, y, cv=cv, scoring=metric)\n",
    "            cv_scores_mean = cv_scores.mean()\n",
    "            models_across_metrics[metric][model_name] = round(cv_scores_mean, 3)\n",
    "    return pd.DataFrame(models_across_metrics)"
   ]
  },
  {
   "cell_type": "code",
   "execution_count": null,
   "metadata": {},
   "outputs": [],
   "source": [
    "models_across_metrics = eval_models_across_metrics(\n",
    "    models, metrics.keys(), X_transformed, y_resampled\n",
    ")"
   ]
  },
  {
   "cell_type": "code",
   "execution_count": null,
   "metadata": {},
   "outputs": [],
   "source": [
    "models_across_metrics"
   ]
  },
  {
   "cell_type": "markdown",
   "metadata": {},
   "source": [
    "Conclusions:\n",
    "\n",
    "- After evaluating the metrics, I have decided to focus on the top 3 models (in terms of accuracy_score): Random Forest Classifier, Extra Trees Classifier, Xgboost Classifier."
   ]
  },
  {
   "cell_type": "markdown",
   "metadata": {},
   "source": [
    "## Hyperparameter tuning"
   ]
  },
  {
   "cell_type": "code",
   "execution_count": null,
   "metadata": {},
   "outputs": [],
   "source": [
    "# Define top models for further hyperparameter tuning\n",
    "models = {\n",
    "    \"Random Forest\": RandomForestClassifier(),\n",
    "    \"Xgboost\": XGBClassifier(),\n",
    "    \"Extra Trees\": ExtraTreesClassifier(),\n",
    "}"
   ]
  },
  {
   "cell_type": "code",
   "execution_count": null,
   "metadata": {},
   "outputs": [],
   "source": [
    "# Split the dataset into features and target\n",
    "X = df.drop(\"loan_status\", axis=1)\n",
    "y = df[\"loan_status\"]"
   ]
  },
  {
   "cell_type": "code",
   "execution_count": null,
   "metadata": {},
   "outputs": [],
   "source": [
    "# Define parameter grids\n",
    "param_grids = {\n",
    "    \"Random Forest\": {\n",
    "        \"n_estimators\": [50, 200],\n",
    "        \"max_depth\": [None, 30],\n",
    "        \"min_samples_split\": [2, 10],\n",
    "        \"min_samples_leaf\": [1, 4],\n",
    "    },\n",
    "    \"Xgboost\": {\n",
    "        \"n_estimators\": [50, 200],\n",
    "        \"max_depth\": [3, 10],\n",
    "        \"learning_rate\": [0.01, 0.2],\n",
    "        \"subsample\": [0.8, 1.0],\n",
    "        \"colsample_bytree\": [0.8, 1.0],\n",
    "        \"gamma\": [0, 0.2],\n",
    "    },\n",
    "    \"Extra Trees\": {\n",
    "        \"n_estimators\": [50, 200],\n",
    "        \"max_depth\": [None, 30],\n",
    "        \"min_samples_split\": [2, 10],\n",
    "        \"min_samples_leaf\": [1, 4],\n",
    "        \"bootstrap\": [True, False],\n",
    "    },\n",
    "}"
   ]
  },
  {
   "cell_type": "code",
   "execution_count": null,
   "metadata": {},
   "outputs": [],
   "source": [
    "def perform_grid_search(models, param_grids, X, y):\n",
    "    best_params = {}\n",
    "    for model_name, model in models.items():\n",
    "        print(f\"Processing {model_name}...\")\n",
    "        param_grid = param_grids[model_name]\n",
    "        grid_search = GridSearchCV(\n",
    "            estimator=model,\n",
    "            param_grid=param_grid,\n",
    "            scoring=\"accuracy\",\n",
    "            cv=5,\n",
    "            n_jobs=-1,\n",
    "            verbose=1,\n",
    "        )\n",
    "        grid_search.fit(X, y)\n",
    "        best_params[model_name] = {\n",
    "            \"Best Parameters\": grid_search.best_params_,\n",
    "            \"Average accuracy score on the best parameters\": round(\n",
    "                grid_search.best_score_, 3\n",
    "            ),\n",
    "        }\n",
    "    return best_params"
   ]
  },
  {
   "cell_type": "code",
   "execution_count": null,
   "metadata": {},
   "outputs": [],
   "source": [
    "# Finding best hyperparameters on top models using GridSearchCV\n",
    "best_params = perform_grid_search(models, param_grids, X_transformed, y_resampled)"
   ]
  },
  {
   "cell_type": "code",
   "execution_count": null,
   "metadata": {},
   "outputs": [],
   "source": [
    "pd.DataFrame(best_params)"
   ]
  },
  {
   "cell_type": "code",
   "execution_count": null,
   "metadata": {},
   "outputs": [],
   "source": [
    "# best_params\n",
    "\n",
    "# {'Random Forest': {'Best Parameters': {'max_depth': None,\n",
    "#    'min_samples_leaf': 1,\n",
    "#    'min_samples_split': 2,\n",
    "#    'n_estimators': 200},\n",
    "#   'Average accuracy score on the best parameters': 0.838},\n",
    "#  'Xgboost': {'Best Parameters': {'colsample_bytree': 0.8,\n",
    "#    'gamma': 0.2,\n",
    "#    'learning_rate': 0.2,\n",
    "#    'max_depth': 10,\n",
    "#    'n_estimators': 50,\n",
    "#    'subsample': 1.0},\n",
    "#   'Average accuracy score on the best parameters': 0.826},\n",
    "#  'Extra Trees': {'Best Parameters': {'bootstrap': True,\n",
    "#    'max_depth': 30,\n",
    "#    'min_samples_leaf': 1,\n",
    "#    'min_samples_split': 2,\n",
    "#    'n_estimators': 200},\n",
    "#   'Average accuracy score on the best parameters': 0.84}}"
   ]
  },
  {
   "cell_type": "code",
   "execution_count": null,
   "metadata": {},
   "outputs": [],
   "source": [
    "# Define top models with best hyperparameters\n",
    "models = {\n",
    "    \"Random Forest\": RandomForestClassifier(\n",
    "        **best_params[\"Random Forest\"][\"Best Parameters\"]\n",
    "    ),\n",
    "    \"Xgboost\": XGBClassifier(**best_params[\"Xgboost\"][\"Best Parameters\"]),\n",
    "    \"Extra Trees\": ExtraTreesClassifier(\n",
    "        **best_params[\"Extra Trees\"][\"Best Parameters\"]\n",
    "    ),\n",
    "}"
   ]
  },
  {
   "cell_type": "code",
   "execution_count": null,
   "metadata": {},
   "outputs": [],
   "source": [
    "# Comparing top models across metrics after hyperparameter tuning\n",
    "models_across_metrics = eval_models_across_metrics(\n",
    "    models, metrics.keys(), X_transformed, y_resampled\n",
    ")"
   ]
  },
  {
   "cell_type": "code",
   "execution_count": null,
   "metadata": {},
   "outputs": [],
   "source": [
    "models_across_metrics"
   ]
  },
  {
   "cell_type": "markdown",
   "metadata": {},
   "source": [
    "\n",
    "## Model training\n"
   ]
  },
  {
   "cell_type": "code",
   "execution_count": null,
   "metadata": {},
   "outputs": [],
   "source": [
    "estimators = []\n",
    "for model_name, model in models.items():\n",
    "    estimators.append((model_name, model))"
   ]
  },
  {
   "cell_type": "code",
   "execution_count": null,
   "metadata": {},
   "outputs": [],
   "source": [
    "estimators"
   ]
  },
  {
   "cell_type": "code",
   "execution_count": null,
   "metadata": {},
   "outputs": [],
   "source": [
    "def eval_voting_clf(estimators, X, y, cv=5):\n",
    "    # Create a voting classifier (hard voting)\n",
    "    voting_clf_hard = VotingClassifier(estimators=estimators, voting=\"hard\")\n",
    "\n",
    "    # Create a voting classifier (soft voting)\n",
    "    voting_clf_soft = VotingClassifier(estimators=estimators, voting=\"soft\")\n",
    "\n",
    "    # Apply cross-validation\n",
    "    cv_scores_h = cross_val_score(voting_clf_hard, X, y, cv=cv, scoring=\"accuracy\")\n",
    "    cv_scores_s = cross_val_score(voting_clf_soft, X, y, cv=cv, scoring=\"accuracy\")\n",
    "\n",
    "    accuracy_results = {}\n",
    "\n",
    "    accuracy_results[\"Hard Margin\"] = round(cv_scores_h.mean(), 3)\n",
    "    accuracy_results[\"Soft Margin\"] = round(cv_scores_s.mean(), 3)\n",
    "\n",
    "    return accuracy_results"
   ]
  },
  {
   "cell_type": "code",
   "execution_count": null,
   "metadata": {},
   "outputs": [],
   "source": [
    "# Accuracy on hard and soft margin voting classifiers\n",
    "accuracy = eval_voting_clf(estimators, X_transformed, y_resampled)\n",
    "accuracy"
   ]
  },
  {
   "cell_type": "code",
   "execution_count": null,
   "metadata": {},
   "outputs": [],
   "source": [
    "# Fit the best model\n",
    "voting_clf = VotingClassifier(estimators, voting=\"hard\")\n",
    "voting_clf.fit(X_transformed, y_resampled)"
   ]
  },
  {
   "cell_type": "code",
   "execution_count": null,
   "metadata": {},
   "outputs": [],
   "source": [
    "# Create a pipeline\n",
    "pipeline = make_pipeline(\n",
    "    StandardScaler(),  # Step 1: Standardize the data\n",
    "    PCA(n_components=2),  # Step 2: Apply PCA\n",
    "    LogisticRegression(),  # Step 3: Train a logistic regression model\n",
    ")"
   ]
  },
  {
   "cell_type": "code",
   "execution_count": null,
   "metadata": {},
   "outputs": [],
   "source": [
    "# Reorder columns\n",
    "target_col = \"loan_status\"\n",
    "df = df[continuous_cols + discrete_cols + [target_col]]\n",
    "\n",
    "# Test\n",
    "df.columns"
   ]
  },
  {
   "cell_type": "code",
   "execution_count": null,
   "metadata": {},
   "outputs": [],
   "source": [
    "# Pipeline\n",
    "pipe = make_pipeline((transformer), (\"model\", voting_clf))\n",
    "\n",
    "pipe.fit(X, y)"
   ]
  },
  {
   "cell_type": "markdown",
   "metadata": {},
   "source": [
    "## Saving"
   ]
  },
  {
   "cell_type": "code",
   "execution_count": null,
   "metadata": {},
   "outputs": [],
   "source": [
    "# Save the Machine Learning model\n",
    "joblib.dump(voting_clf, \"model.joblib\")"
   ]
  },
  {
   "cell_type": "code",
   "execution_count": null,
   "metadata": {},
   "outputs": [],
   "source": [
    "# Statistical measures\n",
    "df[[\"has_coapplicant\"]].describe().T\n",
    "\n",
    "# Countplot\n",
    "sns.countplot(x=df[\"has_coapplicant\"])\n",
    "plt.show()\n",
    "\n",
    "# Heatmap\n",
    "fz.crosstab_heatmap_viz(df, [\"loan_status\"], [\"has_coapplicant\"], \"both\")\n",
    "\n",
    "# Heatmap\n",
    "fz.crosstab_heatmap_viz(df, discrete_cols, [\"has_coapplicant\"], \"both\")\n",
    "\n",
    "# Point plot\n",
    "fig, axs = fz.num_cat_viz(df, continuous_cols, \"has_coapplicant\", kind=\"point\")\n",
    "fig"
   ]
  },
  {
   "cell_type": "code",
   "execution_count": null,
   "metadata": {},
   "outputs": [],
   "source": [
    "# Export config data\n",
    "config_data = {\n",
    "    \"column_names\": column_names,\n",
    "    \"num\": {\"cols\": continuous_cols, \"nan\": continuous_cols_with_nan},\n",
    "    \"cat\": {\"cols\": discrete_cols, \"nan\": discrete_cols_with_nan},\n",
    "    \"target_col\": target_col,\n",
    "}\n",
    "\n",
    "with open(\"src/loan_sanction_prediction/config.yaml\", \"w\") as file:\n",
    "    yaml.dump(config_data, file, default_flow_style=False)\n",
    "\n",
    "# Export dataset\n",
    "fz.export(df, \"../data/interim/cleaned_train_data_v1.csv\", force_overwrite=True)"
   ]
  },
  {
   "cell_type": "code",
   "execution_count": null,
   "metadata": {},
   "outputs": [],
   "source": [
    "log.info(\"Format columns...\")\n",
    "try:\n",
    "    df = df[continuous_cols + discrete_cols + target_col]\n",
    "    log.success(f\"Successfully formatted columns: {df.columns.to_list()}\")\n",
    "except Exception:\n",
    "    log.exception(\"Failed to format columns\")\n",
    "    raise"
   ]
  }
 ],
 "metadata": {
  "kernelspec": {
   "display_name": ".venv",
   "language": "python",
   "name": "python3"
  },
  "language_info": {
   "codemirror_mode": {
    "name": "ipython",
    "version": 3
   },
   "file_extension": ".py",
   "mimetype": "text/x-python",
   "name": "python",
   "nbconvert_exporter": "python",
   "pygments_lexer": "ipython3",
   "version": "3.12.7"
  }
 },
 "nbformat": 4,
 "nbformat_minor": 2
}
